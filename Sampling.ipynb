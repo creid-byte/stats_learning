{
 "cells": [
  {
   "cell_type": "code",
   "execution_count": 1,
   "id": "b8527578",
   "metadata": {},
   "outputs": [],
   "source": [
    "import pandas as pd\n",
    "import numpy as np\n",
    "import matplotlib.pyplot as plt"
   ]
  },
  {
   "cell_type": "code",
   "execution_count": 2,
   "id": "dc90fa94",
   "metadata": {},
   "outputs": [
    {
     "data": {
      "text/html": [
       "<div>\n",
       "<style scoped>\n",
       "    .dataframe tbody tr th:only-of-type {\n",
       "        vertical-align: middle;\n",
       "    }\n",
       "\n",
       "    .dataframe tbody tr th {\n",
       "        vertical-align: top;\n",
       "    }\n",
       "\n",
       "    .dataframe thead th {\n",
       "        text-align: right;\n",
       "    }\n",
       "</style>\n",
       "<table border=\"1\" class=\"dataframe\">\n",
       "  <thead>\n",
       "    <tr style=\"text-align: right;\">\n",
       "      <th></th>\n",
       "      <th>Name</th>\n",
       "      <th>Team</th>\n",
       "      <th>Pos</th>\n",
       "      <th>Height</th>\n",
       "      <th>Weight</th>\n",
       "      <th>BMI</th>\n",
       "      <th>Birth_Place</th>\n",
       "      <th>Birthdate</th>\n",
       "      <th>Age</th>\n",
       "      <th>College</th>\n",
       "      <th>...</th>\n",
       "      <th>OREB</th>\n",
       "      <th>DREB</th>\n",
       "      <th>REB</th>\n",
       "      <th>AST</th>\n",
       "      <th>STL</th>\n",
       "      <th>BLK</th>\n",
       "      <th>TO</th>\n",
       "      <th>PTS</th>\n",
       "      <th>DD2</th>\n",
       "      <th>TD3</th>\n",
       "    </tr>\n",
       "  </thead>\n",
       "  <tbody>\n",
       "    <tr>\n",
       "      <th>0</th>\n",
       "      <td>Aerial Powers</td>\n",
       "      <td>DAL</td>\n",
       "      <td>F</td>\n",
       "      <td>183</td>\n",
       "      <td>71.0</td>\n",
       "      <td>21.200991</td>\n",
       "      <td>US</td>\n",
       "      <td>January 17, 1994</td>\n",
       "      <td>23</td>\n",
       "      <td>Michigan State</td>\n",
       "      <td>...</td>\n",
       "      <td>6</td>\n",
       "      <td>22</td>\n",
       "      <td>28</td>\n",
       "      <td>12</td>\n",
       "      <td>3</td>\n",
       "      <td>6</td>\n",
       "      <td>12</td>\n",
       "      <td>93</td>\n",
       "      <td>0</td>\n",
       "      <td>0</td>\n",
       "    </tr>\n",
       "    <tr>\n",
       "      <th>1</th>\n",
       "      <td>Alana Beard</td>\n",
       "      <td>LA</td>\n",
       "      <td>G/F</td>\n",
       "      <td>185</td>\n",
       "      <td>73.0</td>\n",
       "      <td>21.329438</td>\n",
       "      <td>US</td>\n",
       "      <td>May 14, 1982</td>\n",
       "      <td>35</td>\n",
       "      <td>Duke</td>\n",
       "      <td>...</td>\n",
       "      <td>19</td>\n",
       "      <td>82</td>\n",
       "      <td>101</td>\n",
       "      <td>72</td>\n",
       "      <td>63</td>\n",
       "      <td>13</td>\n",
       "      <td>40</td>\n",
       "      <td>217</td>\n",
       "      <td>0</td>\n",
       "      <td>0</td>\n",
       "    </tr>\n",
       "    <tr>\n",
       "      <th>2</th>\n",
       "      <td>Alex Bentley</td>\n",
       "      <td>CON</td>\n",
       "      <td>G</td>\n",
       "      <td>170</td>\n",
       "      <td>69.0</td>\n",
       "      <td>23.875433</td>\n",
       "      <td>US</td>\n",
       "      <td>October 27, 1990</td>\n",
       "      <td>26</td>\n",
       "      <td>Penn State</td>\n",
       "      <td>...</td>\n",
       "      <td>4</td>\n",
       "      <td>36</td>\n",
       "      <td>40</td>\n",
       "      <td>78</td>\n",
       "      <td>22</td>\n",
       "      <td>3</td>\n",
       "      <td>24</td>\n",
       "      <td>218</td>\n",
       "      <td>0</td>\n",
       "      <td>0</td>\n",
       "    </tr>\n",
       "    <tr>\n",
       "      <th>3</th>\n",
       "      <td>Alex Montgomery</td>\n",
       "      <td>SAN</td>\n",
       "      <td>G/F</td>\n",
       "      <td>185</td>\n",
       "      <td>84.0</td>\n",
       "      <td>24.543462</td>\n",
       "      <td>US</td>\n",
       "      <td>December 11, 1988</td>\n",
       "      <td>28</td>\n",
       "      <td>Georgia Tech</td>\n",
       "      <td>...</td>\n",
       "      <td>35</td>\n",
       "      <td>134</td>\n",
       "      <td>169</td>\n",
       "      <td>65</td>\n",
       "      <td>20</td>\n",
       "      <td>10</td>\n",
       "      <td>38</td>\n",
       "      <td>188</td>\n",
       "      <td>2</td>\n",
       "      <td>0</td>\n",
       "    </tr>\n",
       "    <tr>\n",
       "      <th>4</th>\n",
       "      <td>Alexis Jones</td>\n",
       "      <td>MIN</td>\n",
       "      <td>G</td>\n",
       "      <td>175</td>\n",
       "      <td>78.0</td>\n",
       "      <td>25.469388</td>\n",
       "      <td>US</td>\n",
       "      <td>August 5, 1994</td>\n",
       "      <td>23</td>\n",
       "      <td>Baylor</td>\n",
       "      <td>...</td>\n",
       "      <td>3</td>\n",
       "      <td>9</td>\n",
       "      <td>12</td>\n",
       "      <td>12</td>\n",
       "      <td>7</td>\n",
       "      <td>0</td>\n",
       "      <td>14</td>\n",
       "      <td>50</td>\n",
       "      <td>0</td>\n",
       "      <td>0</td>\n",
       "    </tr>\n",
       "  </tbody>\n",
       "</table>\n",
       "<p>5 rows × 32 columns</p>\n",
       "</div>"
      ],
      "text/plain": [
       "              Name Team  Pos  Height  Weight        BMI Birth_Place  \\\n",
       "0    Aerial Powers  DAL    F     183    71.0  21.200991          US   \n",
       "1      Alana Beard   LA  G/F     185    73.0  21.329438          US   \n",
       "2     Alex Bentley  CON    G     170    69.0  23.875433          US   \n",
       "3  Alex Montgomery  SAN  G/F     185    84.0  24.543462          US   \n",
       "4     Alexis Jones  MIN    G     175    78.0  25.469388          US   \n",
       "\n",
       "           Birthdate  Age         College  ... OREB  DREB  REB  AST  STL  BLK  \\\n",
       "0   January 17, 1994   23  Michigan State  ...    6    22   28   12    3    6   \n",
       "1       May 14, 1982   35            Duke  ...   19    82  101   72   63   13   \n",
       "2   October 27, 1990   26      Penn State  ...    4    36   40   78   22    3   \n",
       "3  December 11, 1988   28    Georgia Tech  ...   35   134  169   65   20   10   \n",
       "4     August 5, 1994   23          Baylor  ...    3     9   12   12    7    0   \n",
       "\n",
       "   TO  PTS  DD2  TD3  \n",
       "0  12   93    0    0  \n",
       "1  40  217    0    0  \n",
       "2  24  218    0    0  \n",
       "3  38  188    2    0  \n",
       "4  14   50    0    0  \n",
       "\n",
       "[5 rows x 32 columns]"
      ]
     },
     "execution_count": 2,
     "metadata": {},
     "output_type": "execute_result"
    }
   ],
   "source": [
    "wnba = pd.read_csv('wnba.csv')\n",
    "wnba.head()"
   ]
  },
  {
   "cell_type": "code",
   "execution_count": 3,
   "id": "b88d9d9f",
   "metadata": {},
   "outputs": [
    {
     "data": {
      "text/plain": [
       "Index(['Name', 'Team', 'Pos', 'Height', 'Weight', 'BMI', 'Birth_Place',\n",
       "       'Birthdate', 'Age', 'College', 'Experience', 'Games Played', 'MIN',\n",
       "       'FGM', 'FGA', 'FG%', '15:00', '3PA', '3P%', 'FTM', 'FTA', 'FT%', 'OREB',\n",
       "       'DREB', 'REB', 'AST', 'STL', 'BLK', 'TO', 'PTS', 'DD2', 'TD3'],\n",
       "      dtype='object')"
      ]
     },
     "execution_count": 3,
     "metadata": {},
     "output_type": "execute_result"
    }
   ],
   "source": [
    "wnba.columns"
   ]
  },
  {
   "cell_type": "markdown",
   "id": "97c33cd3",
   "metadata": {},
   "source": [
    "# States Notes \n",
    "\n",
    "* Population- All individuals relevant to a particular statiscal question\n",
    "* Sample- We call a smaller group from a population. i.e selecting 100 people out of 50,000 people\n",
    "* Sampling error- Difference between the metrics of population and the metrics of a sample. The difference is an error\n",
    "* Paramter- metric specific to a population\n",
    "* Statistic - metric specific to a sample"
   ]
  },
  {
   "cell_type": "code",
   "execution_count": 4,
   "id": "08249f51",
   "metadata": {
    "scrolled": true
   },
   "outputs": [],
   "source": [
    "parameter = wnba['Games Played'].max()                     # paremeter is 32\n",
    "sample = wnba['Games Played'].sample(30, random_state=1)   # sample is a series sample of 30 data points\n",
    "statistic = sample.max()                                   # Statistic is 30\n",
    "sampling_error = parameter - statistic                     # Sampling error is 2"
   ]
  },
  {
   "cell_type": "markdown",
   "id": "b52fa8bf",
   "metadata": {},
   "source": [
    "The goal is to minimize the sampling error as much as we can, to ensure our sample represents the population as accuraetly as possible. We want our samples to be representative of their corrosponding populations.\n",
    "\n",
    "A sampling method we can use is **simple random sampling (SRS)**"
   ]
  },
  {
   "cell_type": "code",
   "execution_count": 5,
   "id": "00d18651",
   "metadata": {
    "scrolled": true
   },
   "outputs": [
    {
     "data": {
      "text/plain": [
       "(100.0, 300.0)"
      ]
     },
     "execution_count": 5,
     "metadata": {},
     "output_type": "execute_result"
    },
    {
     "data": {
      "image/png": "[encoded data removed]",
      "text/plain": [
       "<Figure size 432x288 with 1 Axes>"
      ]
     },
     "metadata": {
      "needs_background": "light"
     },
     "output_type": "display_data"
    }
   ],
   "source": [
    "# Using random sampling to measure the average points scored by a player during 2016-2017 season\n",
    "\n",
    "population_mean = wnba.PTS.mean()                                        # mean is 201\n",
    "sample_means = []                                                        # list of averaged samples from sampling\n",
    "\n",
    "for i in range(100):                                                     # take 100 samples of 10 values each\n",
    "    sample = wnba.PTS.sample(10, random_state=i)\n",
    "    sample_means.append(sample.mean())                                   # finding the mean of each sample\n",
    "    \n",
    "plt.scatter(range(1,101), sample_means)\n",
    "plt.axhline(population_mean)\n",
    "plt.ylim(100,300)"
   ]
  },
  {
   "cell_type": "markdown",
   "id": "49914b6e",
   "metadata": {},
   "source": [
    "With a relatively small sample size, the sample mean varies a lot from the population mean. As a result, **the sampling error** will be quite large for some case. If we were to run an analysis, will not get results that will accurately represent the population. We will now increase the sample size to measure the dispersion "
   ]
  },
  {
   "cell_type": "code",
   "execution_count": 6,
   "id": "1366e136",
   "metadata": {},
   "outputs": [
    {
     "data": {
      "text/plain": [
       "(100.0, 300.0)"
      ]
     },
     "execution_count": 6,
     "metadata": {},
     "output_type": "execute_result"
    },
    {
     "data": {
      "image/png": "[encoded data removed]",
      "text/plain": [
       "<Figure size 432x288 with 1 Axes>"
      ]
     },
     "metadata": {
      "needs_background": "light"
     },
     "output_type": "display_data"
    }
   ],
   "source": [
    "population_mean = wnba.PTS.mean()                                        # mean is 201\n",
    "sample_means = []                                                        # list of averaged samples from sampling\n",
    "\n",
    "for i in range(100):                                                     # take 100 samples of 100 values each\n",
    "    sample = wnba.PTS.sample(100, random_state=i)\n",
    "    sample_means.append(sample.mean())                                   # finding the mean of each sample\n",
    "    \n",
    "plt.scatter(range(1,101), sample_means)\n",
    "plt.axhline(population_mean)\n",
    "plt.ylim(100,300)"
   ]
  },
  {
   "cell_type": "markdown",
   "id": "b8c446fe",
   "metadata": {},
   "source": [
    "The sample mean now varies less around the population mean as the sample size is increased. Conculsions:\n",
    "* Simple Random Sampling is not reliable sampling method when sample size is small\n",
    "* A large sample decreases the variability of the sampling process\n",
    "\n",
    "# Stratified sampling <br>\n",
    "Organizing data into different groups, and then doing a **simple random sampling** for every group. We then call each stratified group a **stratum**\n",
    "\n",
    "We will not conduct a stratified sampling on the Women NBA dataset, because our previous sampling may exclude certain population individuals who are relevants to our questions. An examples are players who play different positions on the court. The metrics of a player (number of points, number of assists, etc.) depend on their position, and we might want to analyze the patterns for each individual position.\n",
    "\n",
    "If we peform simple random sampling, there is a chance our sample will not include some categories"
   ]
  },
  {
   "cell_type": "code",
   "execution_count": 7,
   "id": "da98cbd4",
   "metadata": {},
   "outputs": [
    {
     "name": "stdout",
     "output_type": "stream",
     "text": [
      "['F' 'G/F' 'G' 'C' 'F/C']\n"
     ]
    }
   ],
   "source": [
    "print(wnba['Pos'].unique())"
   ]
  },
  {
   "cell_type": "code",
   "execution_count": 8,
   "id": "9efce49e",
   "metadata": {},
   "outputs": [
    {
     "data": {
      "text/html": [
       "<div>\n",
       "<style scoped>\n",
       "    .dataframe tbody tr th:only-of-type {\n",
       "        vertical-align: middle;\n",
       "    }\n",
       "\n",
       "    .dataframe tbody tr th {\n",
       "        vertical-align: top;\n",
       "    }\n",
       "\n",
       "    .dataframe thead th {\n",
       "        text-align: right;\n",
       "    }\n",
       "</style>\n",
       "<table border=\"1\" class=\"dataframe\">\n",
       "  <thead>\n",
       "    <tr style=\"text-align: right;\">\n",
       "      <th></th>\n",
       "      <th>Name</th>\n",
       "      <th>PTS</th>\n",
       "      <th>Games Played</th>\n",
       "    </tr>\n",
       "  </thead>\n",
       "  <tbody>\n",
       "    <tr>\n",
       "      <th>0</th>\n",
       "      <td>Aerial Powers</td>\n",
       "      <td>93</td>\n",
       "      <td>8</td>\n",
       "    </tr>\n",
       "    <tr>\n",
       "      <th>1</th>\n",
       "      <td>Alana Beard</td>\n",
       "      <td>217</td>\n",
       "      <td>30</td>\n",
       "    </tr>\n",
       "    <tr>\n",
       "      <th>2</th>\n",
       "      <td>Alex Bentley</td>\n",
       "      <td>218</td>\n",
       "      <td>26</td>\n",
       "    </tr>\n",
       "    <tr>\n",
       "      <th>3</th>\n",
       "      <td>Alex Montgomery</td>\n",
       "      <td>188</td>\n",
       "      <td>31</td>\n",
       "    </tr>\n",
       "    <tr>\n",
       "      <th>4</th>\n",
       "      <td>Alexis Jones</td>\n",
       "      <td>50</td>\n",
       "      <td>24</td>\n",
       "    </tr>\n",
       "    <tr>\n",
       "      <th>...</th>\n",
       "      <td>...</td>\n",
       "      <td>...</td>\n",
       "      <td>...</td>\n",
       "    </tr>\n",
       "    <tr>\n",
       "      <th>138</th>\n",
       "      <td>Tiffany Hayes</td>\n",
       "      <td>467</td>\n",
       "      <td>29</td>\n",
       "    </tr>\n",
       "    <tr>\n",
       "      <th>139</th>\n",
       "      <td>Tiffany Jackson</td>\n",
       "      <td>28</td>\n",
       "      <td>22</td>\n",
       "    </tr>\n",
       "    <tr>\n",
       "      <th>140</th>\n",
       "      <td>Tiffany Mitchell</td>\n",
       "      <td>277</td>\n",
       "      <td>27</td>\n",
       "    </tr>\n",
       "    <tr>\n",
       "      <th>141</th>\n",
       "      <td>Tina Charles</td>\n",
       "      <td>582</td>\n",
       "      <td>29</td>\n",
       "    </tr>\n",
       "    <tr>\n",
       "      <th>142</th>\n",
       "      <td>Yvonne Turner</td>\n",
       "      <td>151</td>\n",
       "      <td>30</td>\n",
       "    </tr>\n",
       "  </tbody>\n",
       "</table>\n",
       "<p>143 rows × 3 columns</p>\n",
       "</div>"
      ],
      "text/plain": [
       "                 Name  PTS  Games Played\n",
       "0       Aerial Powers   93             8\n",
       "1         Alana Beard  217            30\n",
       "2        Alex Bentley  218            26\n",
       "3     Alex Montgomery  188            31\n",
       "4        Alexis Jones   50            24\n",
       "..                ...  ...           ...\n",
       "138     Tiffany Hayes  467            29\n",
       "139   Tiffany Jackson   28            22\n",
       "140  Tiffany Mitchell  277            27\n",
       "141      Tina Charles  582            29\n",
       "142     Yvonne Turner  151            30\n",
       "\n",
       "[143 rows x 3 columns]"
      ]
     },
     "execution_count": 8,
     "metadata": {},
     "output_type": "execute_result"
    }
   ],
   "source": [
    "wnba[['Name','PTS', 'Games Played']]"
   ]
  },
  {
   "cell_type": "code",
   "execution_count": 9,
   "id": "6c7cc805",
   "metadata": {},
   "outputs": [
    {
     "data": {
      "text/html": [
       "<div>\n",
       "<style scoped>\n",
       "    .dataframe tbody tr th:only-of-type {\n",
       "        vertical-align: middle;\n",
       "    }\n",
       "\n",
       "    .dataframe tbody tr th {\n",
       "        vertical-align: top;\n",
       "    }\n",
       "\n",
       "    .dataframe thead th {\n",
       "        text-align: right;\n",
       "    }\n",
       "</style>\n",
       "<table border=\"1\" class=\"dataframe\">\n",
       "  <thead>\n",
       "    <tr style=\"text-align: right;\">\n",
       "      <th></th>\n",
       "      <th>Name</th>\n",
       "      <th>PTS</th>\n",
       "      <th>Games Played</th>\n",
       "      <th>points_per_game</th>\n",
       "    </tr>\n",
       "  </thead>\n",
       "  <tbody>\n",
       "    <tr>\n",
       "      <th>0</th>\n",
       "      <td>Aerial Powers</td>\n",
       "      <td>93</td>\n",
       "      <td>8</td>\n",
       "      <td>11.625000</td>\n",
       "    </tr>\n",
       "    <tr>\n",
       "      <th>1</th>\n",
       "      <td>Alana Beard</td>\n",
       "      <td>217</td>\n",
       "      <td>30</td>\n",
       "      <td>7.233333</td>\n",
       "    </tr>\n",
       "    <tr>\n",
       "      <th>2</th>\n",
       "      <td>Alex Bentley</td>\n",
       "      <td>218</td>\n",
       "      <td>26</td>\n",
       "      <td>8.384615</td>\n",
       "    </tr>\n",
       "    <tr>\n",
       "      <th>3</th>\n",
       "      <td>Alex Montgomery</td>\n",
       "      <td>188</td>\n",
       "      <td>31</td>\n",
       "      <td>6.064516</td>\n",
       "    </tr>\n",
       "    <tr>\n",
       "      <th>4</th>\n",
       "      <td>Alexis Jones</td>\n",
       "      <td>50</td>\n",
       "      <td>24</td>\n",
       "      <td>2.083333</td>\n",
       "    </tr>\n",
       "    <tr>\n",
       "      <th>...</th>\n",
       "      <td>...</td>\n",
       "      <td>...</td>\n",
       "      <td>...</td>\n",
       "      <td>...</td>\n",
       "    </tr>\n",
       "    <tr>\n",
       "      <th>138</th>\n",
       "      <td>Tiffany Hayes</td>\n",
       "      <td>467</td>\n",
       "      <td>29</td>\n",
       "      <td>16.103448</td>\n",
       "    </tr>\n",
       "    <tr>\n",
       "      <th>139</th>\n",
       "      <td>Tiffany Jackson</td>\n",
       "      <td>28</td>\n",
       "      <td>22</td>\n",
       "      <td>1.272727</td>\n",
       "    </tr>\n",
       "    <tr>\n",
       "      <th>140</th>\n",
       "      <td>Tiffany Mitchell</td>\n",
       "      <td>277</td>\n",
       "      <td>27</td>\n",
       "      <td>10.259259</td>\n",
       "    </tr>\n",
       "    <tr>\n",
       "      <th>141</th>\n",
       "      <td>Tina Charles</td>\n",
       "      <td>582</td>\n",
       "      <td>29</td>\n",
       "      <td>20.068966</td>\n",
       "    </tr>\n",
       "    <tr>\n",
       "      <th>142</th>\n",
       "      <td>Yvonne Turner</td>\n",
       "      <td>151</td>\n",
       "      <td>30</td>\n",
       "      <td>5.033333</td>\n",
       "    </tr>\n",
       "  </tbody>\n",
       "</table>\n",
       "<p>143 rows × 4 columns</p>\n",
       "</div>"
      ],
      "text/plain": [
       "                 Name  PTS  Games Played  points_per_game\n",
       "0       Aerial Powers   93             8        11.625000\n",
       "1         Alana Beard  217            30         7.233333\n",
       "2        Alex Bentley  218            26         8.384615\n",
       "3     Alex Montgomery  188            31         6.064516\n",
       "4        Alexis Jones   50            24         2.083333\n",
       "..                ...  ...           ...              ...\n",
       "138     Tiffany Hayes  467            29        16.103448\n",
       "139   Tiffany Jackson   28            22         1.272727\n",
       "140  Tiffany Mitchell  277            27        10.259259\n",
       "141      Tina Charles  582            29        20.068966\n",
       "142     Yvonne Turner  151            30         5.033333\n",
       "\n",
       "[143 rows x 4 columns]"
      ]
     },
     "execution_count": 9,
     "metadata": {},
     "output_type": "execute_result"
    }
   ],
   "source": [
    "# Creating a new column describing the average points scored per game this season\n",
    "wnba['points_per_game'] = wnba['PTS'] / wnba['Games Played']\n",
    "wnba[['Name','PTS', 'Games Played','points_per_game']]"
   ]
  },
  {
   "cell_type": "code",
   "execution_count": 10,
   "id": "439f2827",
   "metadata": {},
   "outputs": [
    {
     "name": "stdout",
     "output_type": "stream",
     "text": [
      "['F' 'G/F' 'G' 'C' 'F/C']\n"
     ]
    }
   ],
   "source": [
    "# finding player positions \n",
    "\n",
    "print(wnba['Pos'].unique())"
   ]
  },
  {
   "cell_type": "code",
   "execution_count": 11,
   "id": "758bb616",
   "metadata": {
    "scrolled": true
   },
   "outputs": [
    {
     "name": "stdout",
     "output_type": "stream",
     "text": [
      "C : 9.833761394334251\n"
     ]
    }
   ],
   "source": [
    "#stratifying the player positions\n",
    "\n",
    "stratum_G = wnba[wnba.Pos == 'G']\n",
    "stratum_F = wnba[wnba.Pos == 'F']\n",
    "stratum_C = wnba[wnba.Pos == 'C']\n",
    "stratum_GF = wnba[wnba.Pos == 'G/F']\n",
    "stratum_FC = wnba[wnba.Pos == 'F/C']\n",
    "\n",
    "# random sampling from each stratum and finding means\n",
    "points_per_position = {}\n",
    "for stratum, position in [(stratum_G, 'G'), (stratum_F, 'F'), (stratum_C, 'C'), (stratum_GF, 'G/F'), (stratum_FC, 'F/C')]:\n",
    "    sample = stratum['points_per_game'].sample(10, random_state=0)\n",
    "    points_per_position[position] = sample.mean()\n",
    "    \n",
    "# finding the position with the highest score and what score\n",
    "print(max(points_per_position, key=points_per_position.get),':', max(points_per_position.values()))"
   ]
  },
  {
   "cell_type": "markdown",
   "id": "c1c729d7",
   "metadata": {},
   "source": [
    "We can now determine that Center's score the most points in a game with a average of 9 points a game\n",
    "\n",
    "# Stratified sampling from proportional distributions\n",
    "The problem we now face is not every player plays the same number of games. We may pick a sample that only consists of players who play less than 12 games in a season or players who play more than 22. This will results in samples that do not represent the population."
   ]
  },
  {
   "cell_type": "code",
   "execution_count": 12,
   "id": "cda48ec9",
   "metadata": {},
   "outputs": [
    {
     "data": {
      "text/plain": [
       "(22.0, 32.0]     72.727273\n",
       "(12.0, 22.0]     18.181818\n",
       "(1.969, 12.0]     9.090909\n",
       "Name: Games Played, dtype: float64"
      ]
     },
     "execution_count": 12,
     "metadata": {},
     "output_type": "execute_result"
    }
   ],
   "source": [
    "wnba['Games Played'].value_counts(bins=3, normalize= True) *100"
   ]
  },
  {
   "cell_type": "markdown",
   "id": "f05c735d",
   "metadata": {},
   "source": [
    "We can see that approximately 73% of the players had more than 23 games for the season.\n",
    "\n",
    "This is important because we may only get a sample that has 2% of the players who played more than 23 games. This higher played players significantly influence the mean. Therefore, we need to gather a sample size that will farely represent the proportions of games played by each player. The **proportions are 70%, 20% and 10%.**\n",
    "\n",
    "<h3>I will create 3 stratum seperating the players into how many games they played:</h3>"
   ]
  },
  {
   "cell_type": "code",
   "execution_count": 13,
   "id": "7afd6632",
   "metadata": {},
   "outputs": [],
   "source": [
    "less_than_12 = wnba[wnba['Games Played'] <= 12]\n",
    "between13_22 = wnba[(wnba['Games Played'] > 12) & (wnba['Games Played']<=22)]\n",
    "more_than_22 = wnba[wnba['Games Played'] > 22]\n",
    "\n",
    "proportional_sampling_means = []\n",
    "for i in range(100):\n",
    "    sample_less_than_12 = less_than_12['PTS'].sample(1, random_state=i)\n",
    "    sample_between13_22 = between13_22['PTS'].sample(2, random_state=i)\n",
    "    sample_more_than_22 = more_than_22['PTS'].sample(7, random_state=i)\n",
    "    final_sample = pd.concat([sample_less_than_12, sample_between13_22, sample_more_than_22])\n",
    "    proportional_sampling_means.append(final_sample.mean())"
   ]
  },
  {
   "cell_type": "code",
   "execution_count": 14,
   "id": "00bd7673",
   "metadata": {},
   "outputs": [
    {
     "data": {
      "text/plain": [
       "(100.0, 350.0)"
      ]
     },
     "execution_count": 14,
     "metadata": {},
     "output_type": "execute_result"
    },
    {
     "data": {
      "image/png": "[encoded data removed]",
      "text/plain": [
       "<Figure size 432x288 with 1 Axes>"
      ]
     },
     "metadata": {
      "needs_background": "light"
     },
     "output_type": "display_data"
    }
   ],
   "source": [
    "plt.scatter(range(1,101), proportional_sampling_means)\n",
    "plt.axhline(wnba['PTS'].mean())\n",
    "plt.ylim(100,350)"
   ]
  },
  {
   "cell_type": "markdown",
   "id": "f8fb8924",
   "metadata": {},
   "source": [
    "<h3>Guidlines for choosing good strate</h3> <br>\n",
    "\n",
    "* Minimize the variability within each stratum\n",
    "    * Avoid having i.e a player who score 10 points vs. one who scores 500 points in a season\n",
    "* Maximize the variability between strate\n",
    "* Stratification criterion should correlate strongly with the property you're trying to measure\n",
    "    * For instance, the column describing minutes played (the criterion) should be correlate strongly with the number of total points (property we want to measure)"
   ]
  },
  {
   "cell_type": "markdown",
   "id": "dcc904f5",
   "metadata": {},
   "source": [
    "# Cluster sampling \n"
   ]
  },
  {
   "cell_type": "code",
   "execution_count": 15,
   "id": "980158e7",
   "metadata": {},
   "outputs": [
    {
     "name": "stdout",
     "output_type": "stream",
     "text": [
      "['DAL' 'LA' 'CON' 'SAN' 'MIN' 'SEA' 'PHO' 'CHI' 'WAS' 'NY' 'ATL' 'IND']\n"
     ]
    }
   ],
   "source": [
    "print(wnba['Team'].unique())"
   ]
  },
  {
   "cell_type": "code",
   "execution_count": 17,
   "id": "8d15e77b",
   "metadata": {},
   "outputs": [
    {
     "data": {
      "text/plain": [
       "6     PHO\n",
       "11    IND\n",
       "4     MIN\n",
       "10    ATL\n",
       "dtype: object"
      ]
     },
     "execution_count": 17,
     "metadata": {},
     "output_type": "execute_result"
    }
   ],
   "source": [
    "pd.Series(wnba['Team'].unique()).sample(4, random_state=0)"
   ]
  },
  {
   "cell_type": "code",
   "execution_count": 19,
   "id": "4dbff098",
   "metadata": {},
   "outputs": [
    {
     "ename": "NameError",
     "evalue": "name 'clusters' is not defined",
     "output_type": "error",
     "traceback": [
      "\u001b[1;31m---------------------------------------------------------------------------\u001b[0m",
      "\u001b[1;31mNameError\u001b[0m                                 Traceback (most recent call last)",
      "\u001b[1;32m<ipython-input-19-46e6bc5e8a19>\u001b[0m in \u001b[0;36m<module>\u001b[1;34m\u001b[0m\n\u001b[0;32m      1\u001b[0m \u001b[0msample\u001b[0m \u001b[1;33m=\u001b[0m \u001b[0mpd\u001b[0m\u001b[1;33m.\u001b[0m\u001b[0mDataFrame\u001b[0m\u001b[1;33m(\u001b[0m\u001b[1;33m)\u001b[0m\u001b[1;33m\u001b[0m\u001b[1;33m\u001b[0m\u001b[0m\n\u001b[0;32m      2\u001b[0m \u001b[1;33m\u001b[0m\u001b[0m\n\u001b[1;32m----> 3\u001b[1;33m \u001b[1;32mfor\u001b[0m \u001b[0mcluster\u001b[0m \u001b[1;32min\u001b[0m \u001b[0mclusters\u001b[0m\u001b[1;33m:\u001b[0m\u001b[1;33m\u001b[0m\u001b[1;33m\u001b[0m\u001b[0m\n\u001b[0m\u001b[0;32m      4\u001b[0m     \u001b[0mdata_collected\u001b[0m \u001b[1;33m=\u001b[0m \u001b[0mwnba\u001b[0m\u001b[1;33m[\u001b[0m\u001b[0mwnba\u001b[0m\u001b[1;33m[\u001b[0m\u001b[1;34m'Team'\u001b[0m\u001b[1;33m]\u001b[0m \u001b[1;33m==\u001b[0m \u001b[0mcluster\u001b[0m\u001b[1;33m]\u001b[0m\u001b[1;33m\u001b[0m\u001b[1;33m\u001b[0m\u001b[0m\n\u001b[0;32m      5\u001b[0m     \u001b[0msample\u001b[0m \u001b[1;33m=\u001b[0m \u001b[0msample\u001b[0m\u001b[1;33m.\u001b[0m\u001b[0mappend\u001b[0m\u001b[1;33m(\u001b[0m\u001b[0mdata_collected\u001b[0m\u001b[1;33m)\u001b[0m\u001b[1;33m\u001b[0m\u001b[1;33m\u001b[0m\u001b[0m\n",
      "\u001b[1;31mNameError\u001b[0m: name 'clusters' is not defined"
     ]
    }
   ],
   "source": [
    "sample = pd.DataFrame()\n",
    "\n",
    "for cluster in clusters:\n",
    "    data_collected = wnba[wnba['Team'] == cluster]\n",
    "    sample = sample.append(data_collected)"
   ]
  },
  {
   "cell_type": "code",
   "execution_count": null,
   "id": "5786ddaf",
   "metadata": {},
   "outputs": [],
   "source": []
  }
 ],
 "metadata": {
  "kernelspec": {
   "display_name": "Python 3",
   "language": "python",
   "name": "python3"
  },
  "language_info": {
   "codemirror_mode": {
    "name": "ipython",
    "version": 3
   },
   "file_extension": ".py",
   "mimetype": "text/x-python",
   "name": "python",
   "nbconvert_exporter": "python",
   "pygments_lexer": "ipython3",
   "version": "3.8.8"
  }
 },
 "nbformat": 4,
 "nbformat_minor": 5
}
